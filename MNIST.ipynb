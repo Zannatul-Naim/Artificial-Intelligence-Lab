{
 "cells": [
  {
   "cell_type": "code",
   "execution_count": null,
   "metadata": {
    "id": "8Q5ZwqtgzsXw"
   },
   "outputs": [],
   "source": [
    "from tensorflow.keras.datasets.mnist import load_data\n",
    "import matplotlib.pyplot as plt\n",
    "import numpy as np\n",
    "from tensorflow.keras.utils import to_categorical\n",
    "from tensorflow.keras.layers import Input, Flatten, Dense\n",
    "from tensorflow.keras.models import Model\n",
    "import keras"
   ]
  },
  {
   "cell_type": "code",
   "execution_count": null,
   "metadata": {
    "id": "ev1mZuartYp8"
   },
   "outputs": [],
   "source": [
    "def display_img(img_set, title_set):\n",
    "  n = len(title_set)\n",
    "  for i in range(n):\n",
    "    plt.subplot(3, 3, i + 1)\n",
    "    plt.imshow(img_set[i], cmap = 'gray')\n",
    "    plt.title(title_set[i])\n",
    "  plt.show()\n",
    "  plt.close()"
   ]
  },
  {
   "cell_type": "code",
   "execution_count": null,
   "metadata": {
    "colab": {
     "base_uri": "https://localhost:8080/",
     "height": 504
    },
    "id": "iO1SD1eqM0S0",
    "outputId": "f4186b69-16fc-41ab-883a-9ead606eb2f1"
   },
   "outputs": [],
   "source": [
    "(X_train, y_train), (X_test, y_test) = load_data()\n",
    "\n",
    "print(f'X_train.shape: {X_train.shape}, y_train.shape: {y_train.shape}, X_test.shape: {X_test.shape}, y_test.shape: {y_test.shape})')\n",
    "\n",
    "display_img(X_train[:9], y_train[:9])"
   ]
  },
  {
   "cell_type": "code",
   "execution_count": null,
   "metadata": {
    "colab": {
     "base_uri": "https://localhost:8080/"
    },
    "id": "oRWK2NPMw6ef",
    "outputId": "b44f395d-f60c-4691-9697-2c3c157fffe8"
   },
   "outputs": [],
   "source": [
    "X_train = np.expand_dims(X_train, axis = -1)\n",
    "X_test = np.expand_dims(X_test, axis = -1)\n",
    "\n",
    "print(f'X_train.shape: {X_train.shape}, X_test.shape: {X_test.shape})')\n",
    "\n",
    "y_train = to_categorical(y_train, num_classes = 10)\n",
    "y_test = to_categorical(y_test, num_classes = 10)\n",
    "\n",
    "print(f'y_train.shape: {y_train.shape}, y_test.shape: {y_test.shape})')\n",
    "print(y_train[:10])"
   ]
  },
  {
   "cell_type": "code",
   "execution_count": null,
   "metadata": {},
   "outputs": [],
   "source": [
    "X_train = X_train.astype(\"float32\") / 255\n",
    "X_test = X_test.astype(\"float32\") / 255"
   ]
  },
  {
   "cell_type": "code",
   "execution_count": null,
   "metadata": {
    "colab": {
     "base_uri": "https://localhost:8080/"
    },
    "id": "9y1xgiaQWKoC",
    "outputId": "ae67c056-b325-4ead-a617-d7cd7cbb8039"
   },
   "outputs": [],
   "source": [
    "inputs = Input((28, 28, 1))\n",
    "\n",
    "x = Flatten()(inputs)\n",
    "x = Dense(512, activation = 'relu')(x)\n",
    "x = Dense(4, activation = 'relu')(x)\n",
    "x = Dense(8, activation = 'relu')(x)\n",
    "x = Dense(16, activation = 'relu')(x)\n",
    "x = Dense(8, activation = 'relu')(x)\n",
    "x = Dense(4, activation = 'relu')(x)\n",
    "\n",
    "outputs = Dense(10, activation = 'softmax')(x)\n",
    "\n",
    "model = Model(inputs, outputs, name = 'digit-classifier')\n",
    "\n",
    "model.summary()"
   ]
  },
  {
   "cell_type": "code",
   "execution_count": null,
   "metadata": {
    "colab": {
     "base_uri": "https://localhost:8080/"
    },
    "id": "3NV6ZXO57o5i",
    "outputId": "17abf9d0-dc9c-4ae7-ce4b-260df6a1b676"
   },
   "outputs": [],
   "source": [
    "model.compile(optimizer=\"rmsprop\", loss = 'categorical_crossentropy', metrics = ['accuracy'])\n",
    "model.fit(X_train, y_train, batch_size = 128, validation_split = 0.1, epochs = 10)"
   ]
  },
  {
   "cell_type": "code",
   "execution_count": null,
   "metadata": {
    "colab": {
     "base_uri": "https://localhost:8080/"
    },
    "id": "9n_c23xDGMBW",
    "outputId": "57629adc-20c8-44be-a088-414a3a80497f"
   },
   "outputs": [],
   "source": [
    "# Evaluate & predict model performance\n",
    "\n",
    "model.evaluate(X_test, y_test)\n",
    "y_predict = model.predict(X_test)\n",
    "\n",
    "print('y  y_pred')\n",
    "print('==   =====')\n",
    "for i in range(10):\n",
    "  print(np.argmax(y_test[i]), '\\t', np.argmax(y_predict[i]))"
   ]
  },
  {
   "cell_type": "code",
   "execution_count": null,
   "metadata": {},
   "outputs": [],
   "source": [
    "from tensorflow.keras.layers import Conv2D, MaxPooling2D"
   ]
  },
  {
   "cell_type": "code",
   "execution_count": null,
   "metadata": {},
   "outputs": [],
   "source": [
    "inputs = Input((28, 28, 1), name = 'InputLayer')\n",
    "\n",
    "x = Conv2D(32, (3, 3), activation='relu', padding='same')(inputs)\n",
    "x = MaxPooling2D(pool_size=(2,2))(x)\n",
    "\n",
    "x = Conv2D(64, (3, 3), activation='relu', padding='same')(x)\n",
    "x = MaxPooling2D(pool_size=(2,2))(x)\n",
    "\n",
    "x = Conv2D(128, (3, 3), activation='relu', padding='same')(x)\n",
    "x = MaxPooling2D(pool_size=(2,2))(x)\n",
    "\n",
    "\n",
    "x = Flatten()(x)\n",
    "outputs = Dense(10, name = 'OutputLayer', activation = 'softmax')(x)\n",
    "model = Model(inputs, outputs, name = 'Multi-Class-Classifier')\n",
    "model.summary()"
   ]
  },
  {
   "cell_type": "code",
   "execution_count": null,
   "metadata": {},
   "outputs": [],
   "source": [
    "model.compile(optimizer=\"rmsprop\", loss = 'categorical_crossentropy', metrics = ['accuracy'])\n",
    "model.fit(X_train, y_train, batch_size = 128, validation_split = 0.1, epochs = 10)"
   ]
  },
  {
   "cell_type": "code",
   "execution_count": null,
   "metadata": {},
   "outputs": [],
   "source": [
    "# Evaluate & predict model performance\n",
    "\n",
    "model.evaluate(X_test, y_test)\n",
    "y_predict = model.predict(X_test)\n",
    "\n",
    "print('y  y_pred')\n",
    "print('==   =====')\n",
    "for i in range(10):\n",
    "  print(np.argmax(y_test[i]), '\\t', np.argmax(y_predict[i]))"
   ]
  }
 ],
 "metadata": {
  "colab": {
   "provenance": []
  },
  "kernelspec": {
   "display_name": "Python 3",
   "language": "python",
   "name": "python3"
  },
  "language_info": {
   "codemirror_mode": {
    "name": "ipython",
    "version": 3
   },
   "file_extension": ".py",
   "mimetype": "text/x-python",
   "name": "python",
   "nbconvert_exporter": "python",
   "pygments_lexer": "ipython3",
   "version": "3.13.0"
  }
 },
 "nbformat": 4,
 "nbformat_minor": 0
}
