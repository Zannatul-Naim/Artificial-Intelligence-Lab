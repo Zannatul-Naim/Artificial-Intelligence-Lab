{
 "cells": [
  {
   "cell_type": "code",
   "execution_count": null,
   "id": "4e1eb28a",
   "metadata": {},
   "outputs": [],
   "source": [
    "import numpy as np\n",
    "import matplotlib.pyplot as plt"
   ]
  },
  {
   "cell_type": "code",
   "execution_count": null,
   "id": "5d4a5a83",
   "metadata": {},
   "outputs": [],
   "source": [
    "x = np.random.uniform(-20, 20, 10000)\n",
    "\n",
    "y = 5*x**3 - 10*x**2 - 20*x + 10\n",
    "\n",
    "x_data = (2*(x-np.min(x))) / (np.max(x)-np.min(x)) - 1\n",
    "y_data = (2*(y-np.min(y))) / (np.max(y)-np.min(y)) - 1"
   ]
  },
  {
   "cell_type": "code",
   "execution_count": null,
   "id": "f5860580",
   "metadata": {},
   "outputs": [],
   "source": [
    "x_train, y_train = x_data[:int(len(x_data)*0.9)], y_data[:int(len(y_data)*0.9)]\n",
    "x_val, y_val = x_data[int(len(x_data)*0.9):int(len(x_data)*0.95)], y_data[int(len(y_data)*0.9):int(len(y_data)*0.95)]\n",
    "x_test, y_test = x_data[int(len(x_data)*0.95):], y_data[int(len(x_data)*0.95):]"
   ]
  },
  {
   "cell_type": "code",
   "execution_count": null,
   "id": "a3e0ac81",
   "metadata": {},
   "outputs": [],
   "source": [
    "# # Stack x and y to shuffle together\n",
    "# combined = np.stack((x_data, y_data), axis=1)\n",
    "\n",
    "# # Shuffle\n",
    "# np.random.shuffle(combined)\n",
    "\n",
    "# # Split back into x and y\n",
    "# x_data_shuffled = combined[:, 0]\n",
    "# y_data_shuffled = combined[:, 1]\n",
    "\n",
    "# # Now split\n",
    "# n = len(x_data_shuffled)\n",
    "# x_train, y_train = x_data_shuffled[:int(n*0.9)], y_data_shuffled[:int(n*0.9)]\n",
    "# x_val, y_val = x_data_shuffled[int(n*0.9):int(n*0.95)], y_data_shuffled[int(n*0.9):int(n*0.95)]\n",
    "# x_test, y_test = x_data_shuffled[int(n*0.95):], y_data_shuffled[int(n*0.95):]\n"
   ]
  },
  {
   "cell_type": "code",
   "execution_count": null,
   "id": "8648321a",
   "metadata": {},
   "outputs": [],
   "source": [
    "import tensorflow as tf\n",
    "from tensorflow.keras.models import Model\n",
    "from tensorflow.keras.layers import Input, Dense "
   ]
  },
  {
   "cell_type": "code",
   "execution_count": null,
   "id": "c3083a08",
   "metadata": {},
   "outputs": [],
   "source": [
    "inputs = Input((1,))\n",
    "x = Dense(32, activation='relu')(inputs)\n",
    "x = Dense(64, activation='relu')(x)\n",
    "x = Dense(128, activation='relu')(x)\n",
    "outputs = Dense(1, activation='tanh')(x)\n",
    "\n",
    "model = Model(inputs, outputs)\n",
    "model.summary()"
   ]
  },
  {
   "cell_type": "code",
   "execution_count": null,
   "id": "10e1f504",
   "metadata": {},
   "outputs": [],
   "source": [
    "model.compile(optimizer='adam', loss = 'mean_squared_error', metrics=[tf.keras.metrics.R2Score(name='accuracy')])\n",
    "trained_model = model.fit(x_train, y_train, epochs=10, validation_data = (x_val, y_val))\n",
    "history = trained_model.history"
   ]
  },
  {
   "cell_type": "code",
   "execution_count": null,
   "id": "b4555fef",
   "metadata": {},
   "outputs": [],
   "source": [
    "plt.plot(history['accuracy'])\n",
    "plt.plot(history['val_accuracy'])\n",
    "plt.xlabel(\"Epochs\")\n",
    "plt.ylabel(\"Accuracy\")\n",
    "plt.legend([\"Training_accuracy\", \"Validation_accuracy\"])\n",
    "plt.grid()\n",
    "plt.show()\n"
   ]
  },
  {
   "cell_type": "code",
   "execution_count": null,
   "id": "5f95b053",
   "metadata": {},
   "outputs": [],
   "source": [
    "plt.plot(history[\"loss\"])\n",
    "plt.plot(history[\"val_loss\"])\n",
    "plt.xlabel(\"Epochs\")\n",
    "plt.ylabel(\"Accuracy\")\n",
    "plt.legend([\"Training_loss\", \"Validation_loss\"])\n",
    "plt.grid()\n",
    "plt.show()"
   ]
  },
  {
   "cell_type": "code",
   "execution_count": null,
   "id": "0b96f866",
   "metadata": {},
   "outputs": [],
   "source": [
    "model.evaluate(x_test, y_test)"
   ]
  },
  {
   "cell_type": "code",
   "execution_count": null,
   "id": "7f34d840",
   "metadata": {},
   "outputs": [],
   "source": [
    "y_pred = model.predict(x_test)\n",
    "\n",
    "plt.figure(figsize=(12, 8))\n",
    "plt.scatter(x_test, y_test, label='True Values', color='blue')\n",
    "plt.scatter(x_test, y_pred, label='Predicted Values', color='red')\n",
    "plt.title('True values vs Predicted Values')\n",
    "plt.xlabel('Sample Index')\n",
    "plt.ylabel('Value')\n",
    "plt.legend()\n",
    "plt.show()\n",
    "\n",
    "plt.figure(figsize=(12, 8))\n",
    "plt.subplot(121)\n",
    "plt.scatter(x_test, y_test, label='True Values', color='blue')\n",
    "plt.title('True values')\n",
    "plt.xlabel('Sample Index')\n",
    "plt.ylabel('Value')\n",
    "plt.legend()\n",
    "\n",
    "plt.subplot(122)\n",
    "plt.scatter(x_test, y_pred, label='Predicted Values', color='red')\n",
    "plt.title('Predicted Values')\n",
    "plt.xlabel('Sample Index')\n",
    "plt.ylabel('Value')\n",
    "plt.legend()\n",
    "\n",
    "plt.tight_layout()\n",
    "plt.show()"
   ]
  }
 ],
 "metadata": {
  "kernelspec": {
   "display_name": "Python 3",
   "language": "python",
   "name": "python3"
  },
  "language_info": {
   "codemirror_mode": {
    "name": "ipython",
    "version": 3
   },
   "file_extension": ".py",
   "mimetype": "text/x-python",
   "name": "python",
   "nbconvert_exporter": "python",
   "pygments_lexer": "ipython3",
   "version": "3.12.3"
  }
 },
 "nbformat": 4,
 "nbformat_minor": 5
}
