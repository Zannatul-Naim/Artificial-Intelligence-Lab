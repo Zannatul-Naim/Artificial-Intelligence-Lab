{
 "cells": [
  {
   "cell_type": "code",
   "execution_count": 16,
   "metadata": {},
   "outputs": [],
   "source": [
    "from tensorflow.keras.datasets.mnist import load_data\n",
    "import matplotlib.pyplot as plt\n",
    "import numpy as np\n",
    "from tensorflow.keras.utils import to_categorical\n",
    "from tensorflow.keras.layers import Input, Flatten, Dense\n",
    "from tensorflow.keras.models import Model\n",
    "import keras"
   ]
  },
  {
   "cell_type": "code",
   "execution_count": 2,
   "metadata": {},
   "outputs": [],
   "source": [
    "def display_img(img_set, title_set):\n",
    "  n = len(title_set)\n",
    "  for i in range(n):\n",
    "    plt.subplot(3, 3, i + 1)\n",
    "    plt.imshow(img_set[i], cmap = 'gray')\n",
    "    plt.title(title_set[i])\n",
    "  plt.show()\n",
    "  plt.close()"
   ]
  },
  {
   "cell_type": "code",
   "execution_count": 3,
   "metadata": {},
   "outputs": [
    {
     "name": "stdout",
     "output_type": "stream",
     "text": [
      "X_train.shape: (60000, 28, 28), y_train.shape: (60000,), X_test.shape: (10000, 28, 28), y_test.shape: (10000,))\n",
      "X_train.dtype: uint8, y_train.dtype: uint8, X_test.dtype: uint8, y_test.dtype: uint8\n",
      "X_train.Range: 255 - 0, X_test.Range: 255 - 0\n"
     ]
    },
    {
     "data": {
      "image/png": "[encoded data removed]",
      "text/plain": [
       "<Figure size 640x480 with 9 Axes>"
      ]
     },
     "metadata": {},
     "output_type": "display_data"
    }
   ],
   "source": [
    "# Load data\n",
    "(X_train, y_train), (X_test, y_test) = load_data()\n",
    "\n",
    "# Investigate loaded data\n",
    "print('X_train.shape: {}, y_train.shape: {}, X_test.shape: {}, y_test.shape: {})'.format(X_train.shape, y_train.shape, X_test.shape, y_test.shape))\n",
    "print('X_train.dtype: {}, y_train.dtype: {}, X_test.dtype: {}, y_test.dtype: {}'.format(X_train.dtype, y_train.dtype, X_test.dtype, y_test.dtype))\n",
    "print('X_train.Range: {} - {}, X_test.Range: {} - {}'.format(X_train.max(), X_train.min(), X_test.max(), X_test.min()))\n",
    "\n",
    "# Dispaly some loaded image data\n",
    "display_img(X_train[:9], y_train[:9])"
   ]
  },
  {
   "cell_type": "code",
   "execution_count": 4,
   "metadata": {},
   "outputs": [
    {
     "name": "stdout",
     "output_type": "stream",
     "text": [
      "X_train.shape: (60000, 28, 28, 1), X_test.shape: (10000, 28, 28, 1))\n",
      "X_train.dtype: uint8, X_test.dtype: uint8\n",
      "X_train.Range: 255 - 0, X_test.Range: 255 - 0\n",
      "y_train.shape: (60000, 10), y_test.shape: (10000, 10))\n",
      "y_train.dtype: float64, X_test.dtype: float64\n",
      "[[0. 0. 0. 0. 0. 1. 0. 0. 0. 0.]\n",
      " [1. 0. 0. 0. 0. 0. 0. 0. 0. 0.]\n",
      " [0. 0. 0. 0. 1. 0. 0. 0. 0. 0.]\n",
      " [0. 1. 0. 0. 0. 0. 0. 0. 0. 0.]\n",
      " [0. 0. 0. 0. 0. 0. 0. 0. 0. 1.]]\n"
     ]
    }
   ],
   "source": [
    "# Turn 2D images into 3D so that X_train and TrainY will be 4D since Convolutional layer takes 4D data as input.\n",
    "X_train = np.expand_dims(X_train, axis = -1)\n",
    "X_test = np.expand_dims(X_test, axis = -1)\n",
    "\n",
    "# Investigate updated x\n",
    "print('X_train.shape: {}, X_test.shape: {})'.format(X_train.shape, X_test.shape))\n",
    "print('X_train.dtype: {}, X_test.dtype: {}'.format(X_train.dtype, X_test.dtype))\n",
    "print('X_train.Range: {} - {}, X_test.Range: {} - {}'.format(X_train.max(), X_train.min(), X_test.max(), X_test.min()))\n",
    "\n",
    "# Turn y into one-hot-encoding, so that we can use 10 neurons in the output layer\n",
    "y_train = to_categorical(y_train, num_classes = 10)\n",
    "y_test = to_categorical(y_test, num_classes = 10)\n",
    "\n",
    "# Investigate updated y\n",
    "print('y_train.shape: {}, y_test.shape: {})'.format(y_train.shape, y_test.shape))\n",
    "print('y_train.dtype: {}, X_test.dtype: {}'.format(y_train.dtype, y_test.dtype))\n",
    "print(y_train[:5])"
   ]
  },
  {
   "cell_type": "code",
   "execution_count": 5,
   "metadata": {},
   "outputs": [],
   "source": [
    "# Normalize dataset\n",
    "X_train = X_train.astype(\"float32\") / 255\n",
    "X_test = X_test.astype(\"float32\") / 255"
   ]
  },
  {
   "cell_type": "code",
   "execution_count": 6,
   "metadata": {},
   "outputs": [
    {
     "data": {
      "text/html": [
       "<pre style=\"white-space:pre;overflow-x:auto;line-height:normal;font-family:Menlo,'DejaVu Sans Mono',consolas,'Courier New',monospace\"><span style=\"font-weight: bold\">Model: \"Multi-Class-Classifier\"</span>\n",
       "</pre>\n"
      ],
      "text/plain": [
       "\u001b[1mModel: \"Multi-Class-Classifier\"\u001b[0m\n"
      ]
     },
     "metadata": {},
     "output_type": "display_data"
    },
    {
     "data": {
      "text/html": [
       "<pre style=\"white-space:pre;overflow-x:auto;line-height:normal;font-family:Menlo,'DejaVu Sans Mono',consolas,'Courier New',monospace\">┏━━━━━━━━━━━━━━━━━━━━━━━━━━━━━━━━━┳━━━━━━━━━━━━━━━━━━━━━━━━┳━━━━━━━━━━━━━━━┓\n",
       "┃<span style=\"font-weight: bold\"> Layer (type)                    </span>┃<span style=\"font-weight: bold\"> Output Shape           </span>┃<span style=\"font-weight: bold\">       Param # </span>┃\n",
       "┡━━━━━━━━━━━━━━━━━━━━━━━━━━━━━━━━━╇━━━━━━━━━━━━━━━━━━━━━━━━╇━━━━━━━━━━━━━━━┩\n",
       "│ InputLayer (<span style=\"color: #0087ff; text-decoration-color: #0087ff\">InputLayer</span>)         │ (<span style=\"color: #00d7ff; text-decoration-color: #00d7ff\">None</span>, <span style=\"color: #00af00; text-decoration-color: #00af00\">28</span>, <span style=\"color: #00af00; text-decoration-color: #00af00\">28</span>, <span style=\"color: #00af00; text-decoration-color: #00af00\">1</span>)      │             <span style=\"color: #00af00; text-decoration-color: #00af00\">0</span> │\n",
       "├─────────────────────────────────┼────────────────────────┼───────────────┤\n",
       "│ flatten (<span style=\"color: #0087ff; text-decoration-color: #0087ff\">Flatten</span>)               │ (<span style=\"color: #00d7ff; text-decoration-color: #00d7ff\">None</span>, <span style=\"color: #00af00; text-decoration-color: #00af00\">784</span>)            │             <span style=\"color: #00af00; text-decoration-color: #00af00\">0</span> │\n",
       "├─────────────────────────────────┼────────────────────────┼───────────────┤\n",
       "│ dense (<span style=\"color: #0087ff; text-decoration-color: #0087ff\">Dense</span>)                   │ (<span style=\"color: #00d7ff; text-decoration-color: #00d7ff\">None</span>, <span style=\"color: #00af00; text-decoration-color: #00af00\">512</span>)            │       <span style=\"color: #00af00; text-decoration-color: #00af00\">401,920</span> │\n",
       "├─────────────────────────────────┼────────────────────────┼───────────────┤\n",
       "│ dense_1 (<span style=\"color: #0087ff; text-decoration-color: #0087ff\">Dense</span>)                 │ (<span style=\"color: #00d7ff; text-decoration-color: #00d7ff\">None</span>, <span style=\"color: #00af00; text-decoration-color: #00af00\">4</span>)              │         <span style=\"color: #00af00; text-decoration-color: #00af00\">2,052</span> │\n",
       "├─────────────────────────────────┼────────────────────────┼───────────────┤\n",
       "│ dense_2 (<span style=\"color: #0087ff; text-decoration-color: #0087ff\">Dense</span>)                 │ (<span style=\"color: #00d7ff; text-decoration-color: #00d7ff\">None</span>, <span style=\"color: #00af00; text-decoration-color: #00af00\">8</span>)              │            <span style=\"color: #00af00; text-decoration-color: #00af00\">40</span> │\n",
       "├─────────────────────────────────┼────────────────────────┼───────────────┤\n",
       "│ dense_3 (<span style=\"color: #0087ff; text-decoration-color: #0087ff\">Dense</span>)                 │ (<span style=\"color: #00d7ff; text-decoration-color: #00d7ff\">None</span>, <span style=\"color: #00af00; text-decoration-color: #00af00\">16</span>)             │           <span style=\"color: #00af00; text-decoration-color: #00af00\">144</span> │\n",
       "├─────────────────────────────────┼────────────────────────┼───────────────┤\n",
       "│ dense_4 (<span style=\"color: #0087ff; text-decoration-color: #0087ff\">Dense</span>)                 │ (<span style=\"color: #00d7ff; text-decoration-color: #00d7ff\">None</span>, <span style=\"color: #00af00; text-decoration-color: #00af00\">8</span>)              │           <span style=\"color: #00af00; text-decoration-color: #00af00\">136</span> │\n",
       "├─────────────────────────────────┼────────────────────────┼───────────────┤\n",
       "│ dense_5 (<span style=\"color: #0087ff; text-decoration-color: #0087ff\">Dense</span>)                 │ (<span style=\"color: #00d7ff; text-decoration-color: #00d7ff\">None</span>, <span style=\"color: #00af00; text-decoration-color: #00af00\">4</span>)              │            <span style=\"color: #00af00; text-decoration-color: #00af00\">36</span> │\n",
       "├─────────────────────────────────┼────────────────────────┼───────────────┤\n",
       "│ OutputLayer (<span style=\"color: #0087ff; text-decoration-color: #0087ff\">Dense</span>)             │ (<span style=\"color: #00d7ff; text-decoration-color: #00d7ff\">None</span>, <span style=\"color: #00af00; text-decoration-color: #00af00\">10</span>)             │            <span style=\"color: #00af00; text-decoration-color: #00af00\">50</span> │\n",
       "└─────────────────────────────────┴────────────────────────┴───────────────┘\n",
       "</pre>\n"
      ],
      "text/plain": [
       "┏━━━━━━━━━━━━━━━━━━━━━━━━━━━━━━━━━┳━━━━━━━━━━━━━━━━━━━━━━━━┳━━━━━━━━━━━━━━━┓\n",
       "┃\u001b[1m \u001b[0m\u001b[1mLayer (type)                   \u001b[0m\u001b[1m \u001b[0m┃\u001b[1m \u001b[0m\u001b[1mOutput Shape          \u001b[0m\u001b[1m \u001b[0m┃\u001b[1m \u001b[0m\u001b[1m      Param #\u001b[0m\u001b[1m \u001b[0m┃\n",
       "┡━━━━━━━━━━━━━━━━━━━━━━━━━━━━━━━━━╇━━━━━━━━━━━━━━━━━━━━━━━━╇━━━━━━━━━━━━━━━┩\n",
       "│ InputLayer (\u001b[38;5;33mInputLayer\u001b[0m)         │ (\u001b[38;5;45mNone\u001b[0m, \u001b[38;5;34m28\u001b[0m, \u001b[38;5;34m28\u001b[0m, \u001b[38;5;34m1\u001b[0m)      │             \u001b[38;5;34m0\u001b[0m │\n",
       "├─────────────────────────────────┼────────────────────────┼───────────────┤\n",
       "│ flatten (\u001b[38;5;33mFlatten\u001b[0m)               │ (\u001b[38;5;45mNone\u001b[0m, \u001b[38;5;34m784\u001b[0m)            │             \u001b[38;5;34m0\u001b[0m │\n",
       "├─────────────────────────────────┼────────────────────────┼───────────────┤\n",
       "│ dense (\u001b[38;5;33mDense\u001b[0m)                   │ (\u001b[38;5;45mNone\u001b[0m, \u001b[38;5;34m512\u001b[0m)            │       \u001b[38;5;34m401,920\u001b[0m │\n",
       "├─────────────────────────────────┼────────────────────────┼───────────────┤\n",
       "│ dense_1 (\u001b[38;5;33mDense\u001b[0m)                 │ (\u001b[38;5;45mNone\u001b[0m, \u001b[38;5;34m4\u001b[0m)              │         \u001b[38;5;34m2,052\u001b[0m │\n",
       "├─────────────────────────────────┼────────────────────────┼───────────────┤\n",
       "│ dense_2 (\u001b[38;5;33mDense\u001b[0m)                 │ (\u001b[38;5;45mNone\u001b[0m, \u001b[38;5;34m8\u001b[0m)              │            \u001b[38;5;34m40\u001b[0m │\n",
       "├─────────────────────────────────┼────────────────────────┼───────────────┤\n",
       "│ dense_3 (\u001b[38;5;33mDense\u001b[0m)                 │ (\u001b[38;5;45mNone\u001b[0m, \u001b[38;5;34m16\u001b[0m)             │           \u001b[38;5;34m144\u001b[0m │\n",
       "├─────────────────────────────────┼────────────────────────┼───────────────┤\n",
       "│ dense_4 (\u001b[38;5;33mDense\u001b[0m)                 │ (\u001b[38;5;45mNone\u001b[0m, \u001b[38;5;34m8\u001b[0m)              │           \u001b[38;5;34m136\u001b[0m │\n",
       "├─────────────────────────────────┼────────────────────────┼───────────────┤\n",
       "│ dense_5 (\u001b[38;5;33mDense\u001b[0m)                 │ (\u001b[38;5;45mNone\u001b[0m, \u001b[38;5;34m4\u001b[0m)              │            \u001b[38;5;34m36\u001b[0m │\n",
       "├─────────────────────────────────┼────────────────────────┼───────────────┤\n",
       "│ OutputLayer (\u001b[38;5;33mDense\u001b[0m)             │ (\u001b[38;5;45mNone\u001b[0m, \u001b[38;5;34m10\u001b[0m)             │            \u001b[38;5;34m50\u001b[0m │\n",
       "└─────────────────────────────────┴────────────────────────┴───────────────┘\n"
      ]
     },
     "metadata": {},
     "output_type": "display_data"
    },
    {
     "data": {
      "text/html": [
       "<pre style=\"white-space:pre;overflow-x:auto;line-height:normal;font-family:Menlo,'DejaVu Sans Mono',consolas,'Courier New',monospace\"><span style=\"font-weight: bold\"> Total params: </span><span style=\"color: #00af00; text-decoration-color: #00af00\">404,378</span> (1.54 MB)\n",
       "</pre>\n"
      ],
      "text/plain": [
       "\u001b[1m Total params: \u001b[0m\u001b[38;5;34m404,378\u001b[0m (1.54 MB)\n"
      ]
     },
     "metadata": {},
     "output_type": "display_data"
    },
    {
     "data": {
      "text/html": [
       "<pre style=\"white-space:pre;overflow-x:auto;line-height:normal;font-family:Menlo,'DejaVu Sans Mono',consolas,'Courier New',monospace\"><span style=\"font-weight: bold\"> Trainable params: </span><span style=\"color: #00af00; text-decoration-color: #00af00\">404,378</span> (1.54 MB)\n",
       "</pre>\n"
      ],
      "text/plain": [
       "\u001b[1m Trainable params: \u001b[0m\u001b[38;5;34m404,378\u001b[0m (1.54 MB)\n"
      ]
     },
     "metadata": {},
     "output_type": "display_data"
    },
    {
     "data": {
      "text/html": [
       "<pre style=\"white-space:pre;overflow-x:auto;line-height:normal;font-family:Menlo,'DejaVu Sans Mono',consolas,'Courier New',monospace\"><span style=\"font-weight: bold\"> Non-trainable params: </span><span style=\"color: #00af00; text-decoration-color: #00af00\">0</span> (0.00 B)\n",
       "</pre>\n"
      ],
      "text/plain": [
       "\u001b[1m Non-trainable params: \u001b[0m\u001b[38;5;34m0\u001b[0m (0.00 B)\n"
      ]
     },
     "metadata": {},
     "output_type": "display_data"
    }
   ],
   "source": [
    "# Build a FCNN\n",
    "inputs = Input((28, 28, 1), name = 'InputLayer')\n",
    "x = Flatten()(inputs)\n",
    "x = Dense(512, activation = 'relu')(x)\n",
    "x = Dense(4, activation = 'relu')(x)\n",
    "x = Dense(8, activation = 'relu')(x)\n",
    "x = Dense(16, activation = 'relu')(x)\n",
    "x = Dense(8, activation = 'relu')(x)\n",
    "x = Dense(4, activation = 'relu')(x)\n",
    "outputs = Dense(10, name = 'OutputLayer', activation = 'softmax')(x)\n",
    "model = Model(inputs, outputs, name = 'Multi-Class-Classifier')\n",
    "model.summary()"
   ]
  },
  {
   "cell_type": "code",
   "execution_count": 9,
   "metadata": {},
   "outputs": [
    {
     "name": "stdout",
     "output_type": "stream",
     "text": [
      "Epoch 1/10\n",
      "\u001b[1m422/422\u001b[0m \u001b[32m━━━━━━━━━━━━━━━━━━━━\u001b[0m\u001b[37m\u001b[0m \u001b[1m3s\u001b[0m 4ms/step - accuracy: 0.9865 - loss: 0.0477 - val_accuracy: 0.9752 - val_loss: 0.1319\n",
      "Epoch 2/10\n",
      "\u001b[1m422/422\u001b[0m \u001b[32m━━━━━━━━━━━━━━━━━━━━\u001b[0m\u001b[37m\u001b[0m \u001b[1m2s\u001b[0m 4ms/step - accuracy: 0.9869 - loss: 0.0431 - val_accuracy: 0.9730 - val_loss: 0.1308\n",
      "Epoch 3/10\n",
      "\u001b[1m422/422\u001b[0m \u001b[32m━━━━━━━━━━━━━━━━━━━━\u001b[0m\u001b[37m\u001b[0m \u001b[1m2s\u001b[0m 4ms/step - accuracy: 0.9904 - loss: 0.0348 - val_accuracy: 0.9737 - val_loss: 0.1322\n",
      "Epoch 4/10\n",
      "\u001b[1m422/422\u001b[0m \u001b[32m━━━━━━━━━━━━━━━━━━━━\u001b[0m\u001b[37m\u001b[0m \u001b[1m2s\u001b[0m 4ms/step - accuracy: 0.9923 - loss: 0.0282 - val_accuracy: 0.9708 - val_loss: 0.1528\n",
      "Epoch 5/10\n",
      "\u001b[1m422/422\u001b[0m \u001b[32m━━━━━━━━━━━━━━━━━━━━\u001b[0m\u001b[37m\u001b[0m \u001b[1m2s\u001b[0m 4ms/step - accuracy: 0.9926 - loss: 0.0277 - val_accuracy: 0.9745 - val_loss: 0.1419\n",
      "Epoch 6/10\n",
      "\u001b[1m422/422\u001b[0m \u001b[32m━━━━━━━━━━━━━━━━━━━━\u001b[0m\u001b[37m\u001b[0m \u001b[1m2s\u001b[0m 4ms/step - accuracy: 0.9936 - loss: 0.0238 - val_accuracy: 0.9733 - val_loss: 0.1575\n",
      "Epoch 7/10\n",
      "\u001b[1m422/422\u001b[0m \u001b[32m━━━━━━━━━━━━━━━━━━━━\u001b[0m\u001b[37m\u001b[0m \u001b[1m2s\u001b[0m 4ms/step - accuracy: 0.9945 - loss: 0.0193 - val_accuracy: 0.9713 - val_loss: 0.1870\n",
      "Epoch 8/10\n",
      "\u001b[1m422/422\u001b[0m \u001b[32m━━━━━━━━━━━━━━━━━━━━\u001b[0m\u001b[37m\u001b[0m \u001b[1m2s\u001b[0m 4ms/step - accuracy: 0.9937 - loss: 0.0210 - val_accuracy: 0.9778 - val_loss: 0.1348\n",
      "Epoch 9/10\n",
      "\u001b[1m422/422\u001b[0m \u001b[32m━━━━━━━━━━━━━━━━━━━━\u001b[0m\u001b[37m\u001b[0m \u001b[1m2s\u001b[0m 4ms/step - accuracy: 0.9949 - loss: 0.0175 - val_accuracy: 0.9775 - val_loss: 0.1305\n",
      "Epoch 10/10\n",
      "\u001b[1m422/422\u001b[0m \u001b[32m━━━━━━━━━━━━━━━━━━━━\u001b[0m\u001b[37m\u001b[0m \u001b[1m2s\u001b[0m 4ms/step - accuracy: 0.9949 - loss: 0.0185 - val_accuracy: 0.9752 - val_loss: 0.1347\n"
     ]
    },
    {
     "data": {
      "text/plain": [
       "<keras.src.callbacks.history.History at 0x22ff875d9c0>"
      ]
     },
     "execution_count": 9,
     "metadata": {},
     "output_type": "execute_result"
    }
   ],
   "source": [
    "model.compile(optimizer=\"adam\", loss = 'categorical_crossentropy', metrics = ['accuracy'])\n",
    "model.fit(X_train, y_train, batch_size = 128, validation_split = 0.1, epochs = 10)"
   ]
  },
  {
   "cell_type": "code",
   "execution_count": 15,
   "metadata": {},
   "outputs": [
    {
     "name": "stdout",
     "output_type": "stream",
     "text": [
      "\u001b[1m313/313\u001b[0m \u001b[32m━━━━━━━━━━━━━━━━━━━━\u001b[0m\u001b[37m\u001b[0m \u001b[1m0s\u001b[0m 1ms/step - accuracy: 0.9655 - loss: 0.1904\n",
      "\u001b[1m313/313\u001b[0m \u001b[32m━━━━━━━━━━━━━━━━━━━━\u001b[0m\u001b[37m\u001b[0m \u001b[1m0s\u001b[0m 970us/step\n",
      "    y       y_predict\n",
      "=========   ==========\n",
      "7 \t\t 7\n",
      "2 \t\t 2\n",
      "1 \t\t 1\n",
      "0 \t\t 0\n",
      "4 \t\t 4\n",
      "1 \t\t 1\n",
      "4 \t\t 4\n",
      "9 \t\t 9\n",
      "5 \t\t 6\n",
      "9 \t\t 9\n"
     ]
    }
   ],
   "source": [
    "# Evaluate model performance\n",
    "model.evaluate(X_test, y_test)\n",
    "\n",
    "# Predict Y values\n",
    "y_predict = model.predict(X_test)\n",
    "\n",
    "print('    y       y_predict')\n",
    "print('=========   ==========')\n",
    "for i in range(10):\n",
    "  print(np.argmax(y_test[i]), '\\t\\t', np.argmax(y_predict[i]))"
   ]
  },
  {
   "cell_type": "markdown",
   "metadata": {},
   "source": [
    "# Fashion Dataset"
   ]
  },
  {
   "cell_type": "code",
   "execution_count": 18,
   "metadata": {},
   "outputs": [],
   "source": [
    "from tensorflow.keras.datasets.fashion_mnist import load_data"
   ]
  },
  {
   "cell_type": "code",
   "execution_count": 24,
   "metadata": {},
   "outputs": [],
   "source": [
    "(X_train, y_train), (X_test, y_test) = load_data()\n",
    "# assert x_train.shape == (60000, 28, 28)\n",
    "# assert x_test.shape == (10000, 28, 28)\n",
    "# assert y_train.shape == (60000,)\n",
    "# assert y_test.shape == (10000,)"
   ]
  },
  {
   "cell_type": "code",
   "execution_count": 25,
   "metadata": {},
   "outputs": [
    {
     "name": "stdout",
     "output_type": "stream",
     "text": [
      "X_train.shape: (60000, 28, 28), y_train.shape: (60000,), X_test.shape: (10000, 28, 28), y_test.shape: (10000,))\n",
      "X_train.dtype: uint8, y_train.dtype: uint8, X_test.dtype: uint8, y_test.dtype: uint8\n",
      "X_train.Range: 255 - 0, X_test.Range: 255 - 0\n"
     ]
    }
   ],
   "source": [
    "# Investigate loaded data\n",
    "print('X_train.shape: {}, y_train.shape: {}, X_test.shape: {}, y_test.shape: {})'.format(X_train.shape, y_train.shape, X_test.shape, y_test.shape))\n",
    "print('X_train.dtype: {}, y_train.dtype: {}, X_test.dtype: {}, y_test.dtype: {}'.format(X_train.dtype, y_train.dtype, X_test.dtype, y_test.dtype))\n",
    "print('X_train.Range: {} - {}, X_test.Range: {} - {}'.format(X_train.max(), X_train.min(), X_test.max(), X_test.min()))"
   ]
  },
  {
   "cell_type": "code",
   "execution_count": 26,
   "metadata": {},
   "outputs": [
    {
     "data": {
      "image/png": "[encoded data removed]",
      "text/plain": [
       "<Figure size 640x480 with 9 Axes>"
      ]
     },
     "metadata": {},
     "output_type": "display_data"
    }
   ],
   "source": [
    "display_img(X_train[:9], y_train[:9])"
   ]
  },
  {
   "cell_type": "code",
   "execution_count": 27,
   "metadata": {},
   "outputs": [
    {
     "name": "stdout",
     "output_type": "stream",
     "text": [
      "X_train.shape: (60000, 28, 28, 1), X_test.shape: (10000, 28, 28, 1))\n",
      "X_train.dtype: uint8, X_test.dtype: uint8\n",
      "X_train.Range: 255 - 0, X_test.Range: 255 - 0\n",
      "y_train.shape: (60000, 10), y_test.shape: (10000, 10))\n",
      "y_train.dtype: float64, X_test.dtype: float64\n",
      "[[0. 0. 0. 0. 0. 0. 0. 0. 0. 1.]\n",
      " [1. 0. 0. 0. 0. 0. 0. 0. 0. 0.]\n",
      " [1. 0. 0. 0. 0. 0. 0. 0. 0. 0.]\n",
      " [0. 0. 0. 1. 0. 0. 0. 0. 0. 0.]\n",
      " [1. 0. 0. 0. 0. 0. 0. 0. 0. 0.]]\n"
     ]
    }
   ],
   "source": [
    "# Turn 2D images into 3D so that X_train and TrainY will be 4D since Convolutional layer takes 4D data as input.\n",
    "X_train = np.expand_dims(X_train, axis = -1)\n",
    "X_test = np.expand_dims(X_test, axis = -1)\n",
    "\n",
    "# Investigate updated x\n",
    "print('X_train.shape: {}, X_test.shape: {})'.format(X_train.shape, X_test.shape))\n",
    "print('X_train.dtype: {}, X_test.dtype: {}'.format(X_train.dtype, X_test.dtype))\n",
    "print('X_train.Range: {} - {}, X_test.Range: {} - {}'.format(X_train.max(), X_train.min(), X_test.max(), X_test.min()))\n",
    "\n",
    "# Turn y into one-hot-encoding, so that we can use 10 neurons in the output layer\n",
    "y_train = to_categorical(y_train, num_classes = 10)\n",
    "y_test = to_categorical(y_test, num_classes = 10)\n",
    "\n",
    "# Investigate updated y\n",
    "print('y_train.shape: {}, y_test.shape: {})'.format(y_train.shape, y_test.shape))\n",
    "print('y_train.dtype: {}, X_test.dtype: {}'.format(y_train.dtype, y_test.dtype))\n",
    "print(y_train[:5])"
   ]
  },
  {
   "cell_type": "code",
   "execution_count": 28,
   "metadata": {},
   "outputs": [],
   "source": [
    "# Normalize dataset\n",
    "X_train = X_train.astype(\"float32\") / 255\n",
    "X_test = X_test.astype(\"float32\") / 255"
   ]
  },
  {
   "cell_type": "code",
   "execution_count": 45,
   "metadata": {},
   "outputs": [
    {
     "name": "stdout",
     "output_type": "stream",
     "text": [
      "Epoch 1/100\n",
      "\u001b[1m422/422\u001b[0m \u001b[32m━━━━━━━━━━━━━━━━━━━━\u001b[0m\u001b[37m\u001b[0m \u001b[1m7s\u001b[0m 10ms/step - accuracy: 0.9646 - loss: 0.1057 - val_accuracy: 0.8842 - val_loss: 0.6103\n",
      "Epoch 2/100\n",
      "\u001b[1m422/422\u001b[0m \u001b[32m━━━━━━━━━━━━━━━━━━━━\u001b[0m\u001b[37m\u001b[0m \u001b[1m5s\u001b[0m 8ms/step - accuracy: 0.9678 - loss: 0.0982 - val_accuracy: 0.8857 - val_loss: 0.5900\n",
      "Epoch 3/100\n",
      "\u001b[1m422/422\u001b[0m \u001b[32m━━━━━━━━━━━━━━━━━━━━\u001b[0m\u001b[37m\u001b[0m \u001b[1m4s\u001b[0m 9ms/step - accuracy: 0.9682 - loss: 0.0972 - val_accuracy: 0.8870 - val_loss: 0.6046\n",
      "Epoch 4/100\n",
      "\u001b[1m422/422\u001b[0m \u001b[32m━━━━━━━━━━━━━━━━━━━━\u001b[0m\u001b[37m\u001b[0m \u001b[1m4s\u001b[0m 9ms/step - accuracy: 0.9698 - loss: 0.0966 - val_accuracy: 0.8785 - val_loss: 0.6080\n",
      "Epoch 5/100\n",
      "\u001b[1m422/422\u001b[0m \u001b[32m━━━━━━━━━━━━━━━━━━━━\u001b[0m\u001b[37m\u001b[0m \u001b[1m4s\u001b[0m 9ms/step - accuracy: 0.9691 - loss: 0.0987 - val_accuracy: 0.8773 - val_loss: 0.6231\n",
      "Epoch 6/100\n",
      "\u001b[1m422/422\u001b[0m \u001b[32m━━━━━━━━━━━━━━━━━━━━\u001b[0m\u001b[37m\u001b[0m \u001b[1m4s\u001b[0m 9ms/step - accuracy: 0.9704 - loss: 0.0909 - val_accuracy: 0.8728 - val_loss: 0.6684\n",
      "Epoch 7/100\n",
      "\u001b[1m422/422\u001b[0m \u001b[32m━━━━━━━━━━━━━━━━━━━━\u001b[0m\u001b[37m\u001b[0m \u001b[1m4s\u001b[0m 9ms/step - accuracy: 0.9703 - loss: 0.0911 - val_accuracy: 0.8867 - val_loss: 0.6065\n",
      "Epoch 8/100\n",
      "\u001b[1m422/422\u001b[0m \u001b[32m━━━━━━━━━━━━━━━━━━━━\u001b[0m\u001b[37m\u001b[0m \u001b[1m5s\u001b[0m 9ms/step - accuracy: 0.9704 - loss: 0.0929 - val_accuracy: 0.8818 - val_loss: 0.5710\n",
      "Epoch 9/100\n",
      "\u001b[1m422/422\u001b[0m \u001b[32m━━━━━━━━━━━━━━━━━━━━\u001b[0m\u001b[37m\u001b[0m \u001b[1m4s\u001b[0m 9ms/step - accuracy: 0.9688 - loss: 0.0914 - val_accuracy: 0.8797 - val_loss: 0.6473\n",
      "Epoch 10/100\n",
      "\u001b[1m422/422\u001b[0m \u001b[32m━━━━━━━━━━━━━━━━━━━━\u001b[0m\u001b[37m\u001b[0m \u001b[1m4s\u001b[0m 9ms/step - accuracy: 0.9698 - loss: 0.0915 - val_accuracy: 0.8775 - val_loss: 0.6150\n",
      "Epoch 11/100\n",
      "\u001b[1m422/422\u001b[0m \u001b[32m━━━━━━━━━━━━━━━━━━━━\u001b[0m\u001b[37m\u001b[0m \u001b[1m4s\u001b[0m 10ms/step - accuracy: 0.9713 - loss: 0.0914 - val_accuracy: 0.8802 - val_loss: 0.6511\n",
      "Epoch 12/100\n",
      "\u001b[1m422/422\u001b[0m \u001b[32m━━━━━━━━━━━━━━━━━━━━\u001b[0m\u001b[37m\u001b[0m \u001b[1m4s\u001b[0m 10ms/step - accuracy: 0.9716 - loss: 0.0868 - val_accuracy: 0.8750 - val_loss: 0.6576\n",
      "Epoch 13/100\n",
      "\u001b[1m422/422\u001b[0m \u001b[32m━━━━━━━━━━━━━━━━━━━━\u001b[0m\u001b[37m\u001b[0m \u001b[1m4s\u001b[0m 9ms/step - accuracy: 0.9720 - loss: 0.0859 - val_accuracy: 0.8852 - val_loss: 0.6019\n",
      "Epoch 14/100\n",
      "\u001b[1m422/422\u001b[0m \u001b[32m━━━━━━━━━━━━━━━━━━━━\u001b[0m\u001b[37m\u001b[0m \u001b[1m4s\u001b[0m 10ms/step - accuracy: 0.9711 - loss: 0.0858 - val_accuracy: 0.8827 - val_loss: 0.6315\n",
      "Epoch 15/100\n",
      "\u001b[1m422/422\u001b[0m \u001b[32m━━━━━━━━━━━━━━━━━━━━\u001b[0m\u001b[37m\u001b[0m \u001b[1m4s\u001b[0m 9ms/step - accuracy: 0.9721 - loss: 0.0858 - val_accuracy: 0.8775 - val_loss: 0.6823\n",
      "Epoch 16/100\n",
      "\u001b[1m422/422\u001b[0m \u001b[32m━━━━━━━━━━━━━━━━━━━━\u001b[0m\u001b[37m\u001b[0m \u001b[1m4s\u001b[0m 9ms/step - accuracy: 0.9714 - loss: 0.0892 - val_accuracy: 0.8822 - val_loss: 0.6297\n",
      "Epoch 17/100\n",
      "\u001b[1m422/422\u001b[0m \u001b[32m━━━━━━━━━━━━━━━━━━━━\u001b[0m\u001b[37m\u001b[0m \u001b[1m4s\u001b[0m 8ms/step - accuracy: 0.9723 - loss: 0.0857 - val_accuracy: 0.8808 - val_loss: 0.6606\n",
      "Epoch 18/100\n",
      "\u001b[1m422/422\u001b[0m \u001b[32m━━━━━━━━━━━━━━━━━━━━\u001b[0m\u001b[37m\u001b[0m \u001b[1m4s\u001b[0m 10ms/step - accuracy: 0.9733 - loss: 0.0836 - val_accuracy: 0.8773 - val_loss: 0.6350\n",
      "Epoch 19/100\n",
      "\u001b[1m422/422\u001b[0m \u001b[32m━━━━━━━━━━━━━━━━━━━━\u001b[0m\u001b[37m\u001b[0m \u001b[1m4s\u001b[0m 9ms/step - accuracy: 0.9736 - loss: 0.0823 - val_accuracy: 0.8832 - val_loss: 0.6575\n",
      "Epoch 20/100\n",
      "\u001b[1m422/422\u001b[0m \u001b[32m━━━━━━━━━━━━━━━━━━━━\u001b[0m\u001b[37m\u001b[0m \u001b[1m5s\u001b[0m 8ms/step - accuracy: 0.9746 - loss: 0.0785 - val_accuracy: 0.8718 - val_loss: 0.7258\n",
      "Epoch 21/100\n",
      "\u001b[1m422/422\u001b[0m \u001b[32m━━━━━━━━━━━━━━━━━━━━\u001b[0m\u001b[37m\u001b[0m \u001b[1m4s\u001b[0m 10ms/step - accuracy: 0.9726 - loss: 0.0823 - val_accuracy: 0.8823 - val_loss: 0.6271\n",
      "Epoch 22/100\n",
      "\u001b[1m422/422\u001b[0m \u001b[32m━━━━━━━━━━━━━━━━━━━━\u001b[0m\u001b[37m\u001b[0m \u001b[1m5s\u001b[0m 12ms/step - accuracy: 0.9747 - loss: 0.0811 - val_accuracy: 0.8790 - val_loss: 0.7084\n",
      "Epoch 23/100\n",
      "\u001b[1m422/422\u001b[0m \u001b[32m━━━━━━━━━━━━━━━━━━━━\u001b[0m\u001b[37m\u001b[0m \u001b[1m4s\u001b[0m 10ms/step - accuracy: 0.9731 - loss: 0.0823 - val_accuracy: 0.8735 - val_loss: 0.7229\n",
      "Epoch 24/100\n",
      "\u001b[1m422/422\u001b[0m \u001b[32m━━━━━━━━━━━━━━━━━━━━\u001b[0m\u001b[37m\u001b[0m \u001b[1m4s\u001b[0m 9ms/step - accuracy: 0.9752 - loss: 0.0795 - val_accuracy: 0.8867 - val_loss: 0.6924\n",
      "Epoch 25/100\n",
      "\u001b[1m422/422\u001b[0m \u001b[32m━━━━━━━━━━━━━━━━━━━━\u001b[0m\u001b[37m\u001b[0m \u001b[1m4s\u001b[0m 10ms/step - accuracy: 0.9754 - loss: 0.0746 - val_accuracy: 0.8822 - val_loss: 0.6581\n",
      "Epoch 26/100\n",
      "\u001b[1m422/422\u001b[0m \u001b[32m━━━━━━━━━━━━━━━━━━━━\u001b[0m\u001b[37m\u001b[0m \u001b[1m4s\u001b[0m 9ms/step - accuracy: 0.9757 - loss: 0.0790 - val_accuracy: 0.8787 - val_loss: 0.6912\n",
      "Epoch 27/100\n",
      "\u001b[1m422/422\u001b[0m \u001b[32m━━━━━━━━━━━━━━━━━━━━\u001b[0m\u001b[37m\u001b[0m \u001b[1m4s\u001b[0m 9ms/step - accuracy: 0.9742 - loss: 0.0760 - val_accuracy: 0.8820 - val_loss: 0.7146\n",
      "Epoch 28/100\n",
      "\u001b[1m422/422\u001b[0m \u001b[32m━━━━━━━━━━━━━━━━━━━━\u001b[0m\u001b[37m\u001b[0m \u001b[1m4s\u001b[0m 8ms/step - accuracy: 0.9739 - loss: 0.0805 - val_accuracy: 0.8853 - val_loss: 0.6899\n",
      "Epoch 29/100\n",
      "\u001b[1m422/422\u001b[0m \u001b[32m━━━━━━━━━━━━━━━━━━━━\u001b[0m\u001b[37m\u001b[0m \u001b[1m4s\u001b[0m 9ms/step - accuracy: 0.9741 - loss: 0.0795 - val_accuracy: 0.8803 - val_loss: 0.7426\n",
      "Epoch 30/100\n",
      "\u001b[1m422/422\u001b[0m \u001b[32m━━━━━━━━━━━━━━━━━━━━\u001b[0m\u001b[37m\u001b[0m \u001b[1m4s\u001b[0m 9ms/step - accuracy: 0.9753 - loss: 0.0783 - val_accuracy: 0.8747 - val_loss: 0.7139\n",
      "Epoch 31/100\n",
      "\u001b[1m422/422\u001b[0m \u001b[32m━━━━━━━━━━━━━━━━━━━━\u001b[0m\u001b[37m\u001b[0m \u001b[1m4s\u001b[0m 9ms/step - accuracy: 0.9750 - loss: 0.0808 - val_accuracy: 0.8783 - val_loss: 0.7570\n",
      "Epoch 32/100\n",
      "\u001b[1m422/422\u001b[0m \u001b[32m━━━━━━━━━━━━━━━━━━━━\u001b[0m\u001b[37m\u001b[0m \u001b[1m5s\u001b[0m 9ms/step - accuracy: 0.9748 - loss: 0.0792 - val_accuracy: 0.8803 - val_loss: 0.6538\n",
      "Epoch 33/100\n",
      "\u001b[1m422/422\u001b[0m \u001b[32m━━━━━━━━━━━━━━━━━━━━\u001b[0m\u001b[37m\u001b[0m \u001b[1m4s\u001b[0m 9ms/step - accuracy: 0.9745 - loss: 0.0794 - val_accuracy: 0.8742 - val_loss: 0.7586\n",
      "Epoch 34/100\n",
      "\u001b[1m422/422\u001b[0m \u001b[32m━━━━━━━━━━━━━━━━━━━━\u001b[0m\u001b[37m\u001b[0m \u001b[1m4s\u001b[0m 9ms/step - accuracy: 0.9763 - loss: 0.0749 - val_accuracy: 0.8713 - val_loss: 0.7975\n",
      "Epoch 35/100\n",
      "\u001b[1m422/422\u001b[0m \u001b[32m━━━━━━━━━━━━━━━━━━━━\u001b[0m\u001b[37m\u001b[0m \u001b[1m4s\u001b[0m 8ms/step - accuracy: 0.9755 - loss: 0.0783 - val_accuracy: 0.8868 - val_loss: 0.6706\n",
      "Epoch 36/100\n",
      "\u001b[1m422/422\u001b[0m \u001b[32m━━━━━━━━━━━━━━━━━━━━\u001b[0m\u001b[37m\u001b[0m \u001b[1m4s\u001b[0m 9ms/step - accuracy: 0.9760 - loss: 0.0724 - val_accuracy: 0.8822 - val_loss: 0.6753\n",
      "Epoch 37/100\n",
      "\u001b[1m422/422\u001b[0m \u001b[32m━━━━━━━━━━━━━━━━━━━━\u001b[0m\u001b[37m\u001b[0m \u001b[1m4s\u001b[0m 9ms/step - accuracy: 0.9780 - loss: 0.0702 - val_accuracy: 0.8802 - val_loss: 0.7252\n",
      "Epoch 38/100\n",
      "\u001b[1m422/422\u001b[0m \u001b[32m━━━━━━━━━━━━━━━━━━━━\u001b[0m\u001b[37m\u001b[0m \u001b[1m4s\u001b[0m 9ms/step - accuracy: 0.9773 - loss: 0.0696 - val_accuracy: 0.8830 - val_loss: 0.7318\n",
      "Epoch 39/100\n",
      "\u001b[1m422/422\u001b[0m \u001b[32m━━━━━━━━━━━━━━━━━━━━\u001b[0m\u001b[37m\u001b[0m \u001b[1m4s\u001b[0m 9ms/step - accuracy: 0.9770 - loss: 0.0727 - val_accuracy: 0.8785 - val_loss: 0.7286\n",
      "Epoch 40/100\n",
      "\u001b[1m422/422\u001b[0m \u001b[32m━━━━━━━━━━━━━━━━━━━━\u001b[0m\u001b[37m\u001b[0m \u001b[1m4s\u001b[0m 9ms/step - accuracy: 0.9769 - loss: 0.0715 - val_accuracy: 0.8757 - val_loss: 0.7260\n",
      "Epoch 41/100\n",
      "\u001b[1m422/422\u001b[0m \u001b[32m━━━━━━━━━━━━━━━━━━━━\u001b[0m\u001b[37m\u001b[0m \u001b[1m4s\u001b[0m 9ms/step - accuracy: 0.9770 - loss: 0.0739 - val_accuracy: 0.8747 - val_loss: 0.7904\n",
      "Epoch 42/100\n",
      "\u001b[1m422/422\u001b[0m \u001b[32m━━━━━━━━━━━━━━━━━━━━\u001b[0m\u001b[37m\u001b[0m \u001b[1m4s\u001b[0m 9ms/step - accuracy: 0.9767 - loss: 0.0711 - val_accuracy: 0.8793 - val_loss: 0.7938\n",
      "Epoch 43/100\n",
      "\u001b[1m422/422\u001b[0m \u001b[32m━━━━━━━━━━━━━━━━━━━━\u001b[0m\u001b[37m\u001b[0m \u001b[1m4s\u001b[0m 10ms/step - accuracy: 0.9779 - loss: 0.0705 - val_accuracy: 0.8842 - val_loss: 0.7146\n",
      "Epoch 44/100\n",
      "\u001b[1m422/422\u001b[0m \u001b[32m━━━━━━━━━━━━━━━━━━━━\u001b[0m\u001b[37m\u001b[0m \u001b[1m4s\u001b[0m 9ms/step - accuracy: 0.9771 - loss: 0.0736 - val_accuracy: 0.8750 - val_loss: 0.7441\n",
      "Epoch 45/100\n",
      "\u001b[1m422/422\u001b[0m \u001b[32m━━━━━━━━━━━━━━━━━━━━\u001b[0m\u001b[37m\u001b[0m \u001b[1m4s\u001b[0m 10ms/step - accuracy: 0.9785 - loss: 0.0655 - val_accuracy: 0.8788 - val_loss: 0.7717\n",
      "Epoch 46/100\n",
      "\u001b[1m422/422\u001b[0m \u001b[32m━━━━━━━━━━━━━━━━━━━━\u001b[0m\u001b[37m\u001b[0m \u001b[1m4s\u001b[0m 9ms/step - accuracy: 0.9778 - loss: 0.0689 - val_accuracy: 0.8805 - val_loss: 0.7478\n",
      "Epoch 47/100\n",
      "\u001b[1m422/422\u001b[0m \u001b[32m━━━━━━━━━━━━━━━━━━━━\u001b[0m\u001b[37m\u001b[0m \u001b[1m4s\u001b[0m 9ms/step - accuracy: 0.9779 - loss: 0.0704 - val_accuracy: 0.8807 - val_loss: 0.7815\n",
      "Epoch 48/100\n",
      "\u001b[1m422/422\u001b[0m \u001b[32m━━━━━━━━━━━━━━━━━━━━\u001b[0m\u001b[37m\u001b[0m \u001b[1m4s\u001b[0m 9ms/step - accuracy: 0.9793 - loss: 0.0678 - val_accuracy: 0.8778 - val_loss: 0.8267\n",
      "Epoch 49/100\n",
      "\u001b[1m422/422\u001b[0m \u001b[32m━━━━━━━━━━━━━━━━━━━━\u001b[0m\u001b[37m\u001b[0m \u001b[1m4s\u001b[0m 9ms/step - accuracy: 0.9795 - loss: 0.0650 - val_accuracy: 0.8807 - val_loss: 0.7455\n",
      "Epoch 50/100\n",
      "\u001b[1m422/422\u001b[0m \u001b[32m━━━━━━━━━━━━━━━━━━━━\u001b[0m\u001b[37m\u001b[0m \u001b[1m4s\u001b[0m 9ms/step - accuracy: 0.9783 - loss: 0.0691 - val_accuracy: 0.8790 - val_loss: 0.7529\n",
      "Epoch 51/100\n",
      "\u001b[1m422/422\u001b[0m \u001b[32m━━━━━━━━━━━━━━━━━━━━\u001b[0m\u001b[37m\u001b[0m \u001b[1m4s\u001b[0m 10ms/step - accuracy: 0.9796 - loss: 0.0661 - val_accuracy: 0.8778 - val_loss: 0.8308\n",
      "Epoch 52/100\n",
      "\u001b[1m422/422\u001b[0m \u001b[32m━━━━━━━━━━━━━━━━━━━━\u001b[0m\u001b[37m\u001b[0m \u001b[1m4s\u001b[0m 9ms/step - accuracy: 0.9800 - loss: 0.0645 - val_accuracy: 0.8807 - val_loss: 0.7075\n",
      "Epoch 53/100\n",
      "\u001b[1m422/422\u001b[0m \u001b[32m━━━━━━━━━━━━━━━━━━━━\u001b[0m\u001b[37m\u001b[0m \u001b[1m4s\u001b[0m 8ms/step - accuracy: 0.9784 - loss: 0.0679 - val_accuracy: 0.8783 - val_loss: 0.7867\n",
      "Epoch 54/100\n",
      "\u001b[1m422/422\u001b[0m \u001b[32m━━━━━━━━━━━━━━━━━━━━\u001b[0m\u001b[37m\u001b[0m \u001b[1m4s\u001b[0m 9ms/step - accuracy: 0.9793 - loss: 0.0679 - val_accuracy: 0.8797 - val_loss: 0.7619\n",
      "Epoch 55/100\n",
      "\u001b[1m422/422\u001b[0m \u001b[32m━━━━━━━━━━━━━━━━━━━━\u001b[0m\u001b[37m\u001b[0m \u001b[1m4s\u001b[0m 9ms/step - accuracy: 0.9791 - loss: 0.0645 - val_accuracy: 0.8708 - val_loss: 0.7929\n",
      "Epoch 56/100\n",
      "\u001b[1m422/422\u001b[0m \u001b[32m━━━━━━━━━━━━━━━━━━━━\u001b[0m\u001b[37m\u001b[0m \u001b[1m4s\u001b[0m 8ms/step - accuracy: 0.9776 - loss: 0.0693 - val_accuracy: 0.8768 - val_loss: 0.7885\n",
      "Epoch 57/100\n",
      "\u001b[1m422/422\u001b[0m \u001b[32m━━━━━━━━━━━━━━━━━━━━\u001b[0m\u001b[37m\u001b[0m \u001b[1m4s\u001b[0m 9ms/step - accuracy: 0.9783 - loss: 0.0638 - val_accuracy: 0.8785 - val_loss: 0.7681\n",
      "Epoch 58/100\n",
      "\u001b[1m422/422\u001b[0m \u001b[32m━━━━━━━━━━━━━━━━━━━━\u001b[0m\u001b[37m\u001b[0m \u001b[1m4s\u001b[0m 10ms/step - accuracy: 0.9795 - loss: 0.0660 - val_accuracy: 0.8738 - val_loss: 0.7666\n",
      "Epoch 59/100\n",
      "\u001b[1m422/422\u001b[0m \u001b[32m━━━━━━━━━━━━━━━━━━━━\u001b[0m\u001b[37m\u001b[0m \u001b[1m4s\u001b[0m 9ms/step - accuracy: 0.9803 - loss: 0.0649 - val_accuracy: 0.8782 - val_loss: 0.7747\n",
      "Epoch 60/100\n",
      "\u001b[1m422/422\u001b[0m \u001b[32m━━━━━━━━━━━━━━━━━━━━\u001b[0m\u001b[37m\u001b[0m \u001b[1m4s\u001b[0m 9ms/step - accuracy: 0.9801 - loss: 0.0642 - val_accuracy: 0.8793 - val_loss: 0.8094\n",
      "Epoch 61/100\n",
      "\u001b[1m422/422\u001b[0m \u001b[32m━━━━━━━━━━━━━━━━━━━━\u001b[0m\u001b[37m\u001b[0m \u001b[1m4s\u001b[0m 9ms/step - accuracy: 0.9800 - loss: 0.0628 - val_accuracy: 0.8770 - val_loss: 0.8074\n",
      "Epoch 62/100\n",
      "\u001b[1m422/422\u001b[0m \u001b[32m━━━━━━━━━━━━━━━━━━━━\u001b[0m\u001b[37m\u001b[0m \u001b[1m5s\u001b[0m 9ms/step - accuracy: 0.9797 - loss: 0.0660 - val_accuracy: 0.8783 - val_loss: 0.8691\n",
      "Epoch 63/100\n",
      "\u001b[1m422/422\u001b[0m \u001b[32m━━━━━━━━━━━━━━━━━━━━\u001b[0m\u001b[37m\u001b[0m \u001b[1m5s\u001b[0m 9ms/step - accuracy: 0.9789 - loss: 0.0659 - val_accuracy: 0.8753 - val_loss: 0.8444\n",
      "Epoch 64/100\n",
      "\u001b[1m422/422\u001b[0m \u001b[32m━━━━━━━━━━━━━━━━━━━━\u001b[0m\u001b[37m\u001b[0m \u001b[1m4s\u001b[0m 9ms/step - accuracy: 0.9812 - loss: 0.0597 - val_accuracy: 0.8807 - val_loss: 0.8117\n",
      "Epoch 65/100\n",
      "\u001b[1m422/422\u001b[0m \u001b[32m━━━━━━━━━━━━━━━━━━━━\u001b[0m\u001b[37m\u001b[0m \u001b[1m4s\u001b[0m 9ms/step - accuracy: 0.9801 - loss: 0.0637 - val_accuracy: 0.8825 - val_loss: 0.8083\n",
      "Epoch 66/100\n",
      "\u001b[1m422/422\u001b[0m \u001b[32m━━━━━━━━━━━━━━━━━━━━\u001b[0m\u001b[37m\u001b[0m \u001b[1m4s\u001b[0m 8ms/step - accuracy: 0.9813 - loss: 0.0596 - val_accuracy: 0.8830 - val_loss: 0.8210\n",
      "Epoch 67/100\n",
      "\u001b[1m422/422\u001b[0m \u001b[32m━━━━━━━━━━━━━━━━━━━━\u001b[0m\u001b[37m\u001b[0m \u001b[1m4s\u001b[0m 9ms/step - accuracy: 0.9819 - loss: 0.0592 - val_accuracy: 0.8818 - val_loss: 0.8186\n",
      "Epoch 68/100\n",
      "\u001b[1m422/422\u001b[0m \u001b[32m━━━━━━━━━━━━━━━━━━━━\u001b[0m\u001b[37m\u001b[0m \u001b[1m5s\u001b[0m 9ms/step - accuracy: 0.9809 - loss: 0.0599 - val_accuracy: 0.8765 - val_loss: 0.8199\n",
      "Epoch 69/100\n",
      "\u001b[1m422/422\u001b[0m \u001b[32m━━━━━━━━━━━━━━━━━━━━\u001b[0m\u001b[37m\u001b[0m \u001b[1m4s\u001b[0m 9ms/step - accuracy: 0.9807 - loss: 0.0616 - val_accuracy: 0.8787 - val_loss: 0.8607\n",
      "Epoch 70/100\n",
      "\u001b[1m422/422\u001b[0m \u001b[32m━━━━━━━━━━━━━━━━━━━━\u001b[0m\u001b[37m\u001b[0m \u001b[1m4s\u001b[0m 9ms/step - accuracy: 0.9823 - loss: 0.0578 - val_accuracy: 0.8747 - val_loss: 0.8117\n",
      "Epoch 71/100\n",
      "\u001b[1m422/422\u001b[0m \u001b[32m━━━━━━━━━━━━━━━━━━━━\u001b[0m\u001b[37m\u001b[0m \u001b[1m5s\u001b[0m 9ms/step - accuracy: 0.9810 - loss: 0.0600 - val_accuracy: 0.8752 - val_loss: 0.8417\n",
      "Epoch 72/100\n",
      "\u001b[1m422/422\u001b[0m \u001b[32m━━━━━━━━━━━━━━━━━━━━\u001b[0m\u001b[37m\u001b[0m \u001b[1m4s\u001b[0m 9ms/step - accuracy: 0.9809 - loss: 0.0606 - val_accuracy: 0.8752 - val_loss: 0.8474\n",
      "Epoch 73/100\n",
      "\u001b[1m422/422\u001b[0m \u001b[32m━━━━━━━━━━━━━━━━━━━━\u001b[0m\u001b[37m\u001b[0m \u001b[1m4s\u001b[0m 9ms/step - accuracy: 0.9815 - loss: 0.0584 - val_accuracy: 0.8753 - val_loss: 0.8095\n",
      "Epoch 74/100\n",
      "\u001b[1m422/422\u001b[0m \u001b[32m━━━━━━━━━━━━━━━━━━━━\u001b[0m\u001b[37m\u001b[0m \u001b[1m3s\u001b[0m 8ms/step - accuracy: 0.9816 - loss: 0.0609 - val_accuracy: 0.8803 - val_loss: 0.7959\n",
      "Epoch 75/100\n",
      "\u001b[1m422/422\u001b[0m \u001b[32m━━━━━━━━━━━━━━━━━━━━\u001b[0m\u001b[37m\u001b[0m \u001b[1m4s\u001b[0m 9ms/step - accuracy: 0.9826 - loss: 0.0570 - val_accuracy: 0.8753 - val_loss: 0.8804\n",
      "Epoch 76/100\n",
      "\u001b[1m422/422\u001b[0m \u001b[32m━━━━━━━━━━━━━━━━━━━━\u001b[0m\u001b[37m\u001b[0m \u001b[1m4s\u001b[0m 9ms/step - accuracy: 0.9829 - loss: 0.0564 - val_accuracy: 0.8690 - val_loss: 0.9782\n",
      "Epoch 77/100\n",
      "\u001b[1m422/422\u001b[0m \u001b[32m━━━━━━━━━━━━━━━━━━━━\u001b[0m\u001b[37m\u001b[0m \u001b[1m5s\u001b[0m 8ms/step - accuracy: 0.9819 - loss: 0.0577 - val_accuracy: 0.8767 - val_loss: 0.8295\n",
      "Epoch 78/100\n",
      "\u001b[1m422/422\u001b[0m \u001b[32m━━━━━━━━━━━━━━━━━━━━\u001b[0m\u001b[37m\u001b[0m \u001b[1m5s\u001b[0m 9ms/step - accuracy: 0.9827 - loss: 0.0583 - val_accuracy: 0.8747 - val_loss: 0.8682\n",
      "Epoch 79/100\n",
      "\u001b[1m422/422\u001b[0m \u001b[32m━━━━━━━━━━━━━━━━━━━━\u001b[0m\u001b[37m\u001b[0m \u001b[1m4s\u001b[0m 9ms/step - accuracy: 0.9828 - loss: 0.0587 - val_accuracy: 0.8783 - val_loss: 0.8997\n",
      "Epoch 80/100\n",
      "\u001b[1m422/422\u001b[0m \u001b[32m━━━━━━━━━━━━━━━━━━━━\u001b[0m\u001b[37m\u001b[0m \u001b[1m4s\u001b[0m 9ms/step - accuracy: 0.9820 - loss: 0.0577 - val_accuracy: 0.8738 - val_loss: 0.9071\n",
      "Epoch 81/100\n",
      "\u001b[1m422/422\u001b[0m \u001b[32m━━━━━━━━━━━━━━━━━━━━\u001b[0m\u001b[37m\u001b[0m \u001b[1m4s\u001b[0m 9ms/step - accuracy: 0.9812 - loss: 0.0600 - val_accuracy: 0.8720 - val_loss: 0.8745\n",
      "Epoch 82/100\n",
      "\u001b[1m422/422\u001b[0m \u001b[32m━━━━━━━━━━━━━━━━━━━━\u001b[0m\u001b[37m\u001b[0m \u001b[1m4s\u001b[0m 9ms/step - accuracy: 0.9829 - loss: 0.0551 - val_accuracy: 0.8817 - val_loss: 0.9079\n",
      "Epoch 83/100\n",
      "\u001b[1m422/422\u001b[0m \u001b[32m━━━━━━━━━━━━━━━━━━━━\u001b[0m\u001b[37m\u001b[0m \u001b[1m4s\u001b[0m 9ms/step - accuracy: 0.9830 - loss: 0.0567 - val_accuracy: 0.8812 - val_loss: 0.8803\n",
      "Epoch 84/100\n",
      "\u001b[1m422/422\u001b[0m \u001b[32m━━━━━━━━━━━━━━━━━━━━\u001b[0m\u001b[37m\u001b[0m \u001b[1m4s\u001b[0m 9ms/step - accuracy: 0.9833 - loss: 0.0555 - val_accuracy: 0.8730 - val_loss: 0.9433\n",
      "Epoch 85/100\n",
      "\u001b[1m422/422\u001b[0m \u001b[32m━━━━━━━━━━━━━━━━━━━━\u001b[0m\u001b[37m\u001b[0m \u001b[1m4s\u001b[0m 10ms/step - accuracy: 0.9837 - loss: 0.0535 - val_accuracy: 0.8788 - val_loss: 0.7892\n",
      "Epoch 86/100\n",
      "\u001b[1m422/422\u001b[0m \u001b[32m━━━━━━━━━━━━━━━━━━━━\u001b[0m\u001b[37m\u001b[0m \u001b[1m4s\u001b[0m 10ms/step - accuracy: 0.9838 - loss: 0.0521 - val_accuracy: 0.8782 - val_loss: 0.9122\n",
      "Epoch 87/100\n",
      "\u001b[1m422/422\u001b[0m \u001b[32m━━━━━━━━━━━━━━━━━━━━\u001b[0m\u001b[37m\u001b[0m \u001b[1m4s\u001b[0m 9ms/step - accuracy: 0.9829 - loss: 0.0538 - val_accuracy: 0.8793 - val_loss: 0.8521\n",
      "Epoch 88/100\n",
      "\u001b[1m422/422\u001b[0m \u001b[32m━━━━━━━━━━━━━━━━━━━━\u001b[0m\u001b[37m\u001b[0m \u001b[1m4s\u001b[0m 10ms/step - accuracy: 0.9842 - loss: 0.0515 - val_accuracy: 0.8715 - val_loss: 0.8969\n",
      "Epoch 89/100\n",
      "\u001b[1m422/422\u001b[0m \u001b[32m━━━━━━━━━━━━━━━━━━━━\u001b[0m\u001b[37m\u001b[0m \u001b[1m4s\u001b[0m 10ms/step - accuracy: 0.9831 - loss: 0.0544 - val_accuracy: 0.8775 - val_loss: 0.8509\n",
      "Epoch 90/100\n",
      "\u001b[1m422/422\u001b[0m \u001b[32m━━━━━━━━━━━━━━━━━━━━\u001b[0m\u001b[37m\u001b[0m \u001b[1m4s\u001b[0m 10ms/step - accuracy: 0.9839 - loss: 0.0517 - val_accuracy: 0.8777 - val_loss: 0.9128\n",
      "Epoch 91/100\n",
      "\u001b[1m422/422\u001b[0m \u001b[32m━━━━━━━━━━━━━━━━━━━━\u001b[0m\u001b[37m\u001b[0m \u001b[1m5s\u001b[0m 11ms/step - accuracy: 0.9820 - loss: 0.0592 - val_accuracy: 0.8775 - val_loss: 0.9294\n",
      "Epoch 92/100\n",
      "\u001b[1m422/422\u001b[0m \u001b[32m━━━━━━━━━━━━━━━━━━━━\u001b[0m\u001b[37m\u001b[0m \u001b[1m4s\u001b[0m 9ms/step - accuracy: 0.9846 - loss: 0.0529 - val_accuracy: 0.8738 - val_loss: 0.8404\n",
      "Epoch 93/100\n",
      "\u001b[1m422/422\u001b[0m \u001b[32m━━━━━━━━━━━━━━━━━━━━\u001b[0m\u001b[37m\u001b[0m \u001b[1m4s\u001b[0m 10ms/step - accuracy: 0.9845 - loss: 0.0515 - val_accuracy: 0.8775 - val_loss: 0.9227\n",
      "Epoch 94/100\n",
      "\u001b[1m422/422\u001b[0m \u001b[32m━━━━━━━━━━━━━━━━━━━━\u001b[0m\u001b[37m\u001b[0m \u001b[1m4s\u001b[0m 10ms/step - accuracy: 0.9843 - loss: 0.0502 - val_accuracy: 0.8827 - val_loss: 0.8640\n",
      "Epoch 95/100\n",
      "\u001b[1m422/422\u001b[0m \u001b[32m━━━━━━━━━━━━━━━━━━━━\u001b[0m\u001b[37m\u001b[0m \u001b[1m4s\u001b[0m 9ms/step - accuracy: 0.9818 - loss: 0.0546 - val_accuracy: 0.8780 - val_loss: 0.8589\n",
      "Epoch 96/100\n",
      "\u001b[1m422/422\u001b[0m \u001b[32m━━━━━━━━━━━━━━━━━━━━\u001b[0m\u001b[37m\u001b[0m \u001b[1m4s\u001b[0m 9ms/step - accuracy: 0.9844 - loss: 0.0497 - val_accuracy: 0.8763 - val_loss: 0.8943\n",
      "Epoch 97/100\n",
      "\u001b[1m422/422\u001b[0m \u001b[32m━━━━━━━━━━━━━━━━━━━━\u001b[0m\u001b[37m\u001b[0m \u001b[1m4s\u001b[0m 9ms/step - accuracy: 0.9841 - loss: 0.0498 - val_accuracy: 0.8795 - val_loss: 0.9314\n",
      "Epoch 98/100\n",
      "\u001b[1m422/422\u001b[0m \u001b[32m━━━━━━━━━━━━━━━━━━━━\u001b[0m\u001b[37m\u001b[0m \u001b[1m4s\u001b[0m 9ms/step - accuracy: 0.9838 - loss: 0.0538 - val_accuracy: 0.8753 - val_loss: 0.8923\n",
      "Epoch 99/100\n",
      "\u001b[1m422/422\u001b[0m \u001b[32m━━━━━━━━━━━━━━━━━━━━\u001b[0m\u001b[37m\u001b[0m \u001b[1m4s\u001b[0m 8ms/step - accuracy: 0.9854 - loss: 0.0486 - val_accuracy: 0.8738 - val_loss: 0.9512\n",
      "Epoch 100/100\n",
      "\u001b[1m422/422\u001b[0m \u001b[32m━━━━━━━━━━━━━━━━━━━━\u001b[0m\u001b[37m\u001b[0m \u001b[1m4s\u001b[0m 9ms/step - accuracy: 0.9855 - loss: 0.0481 - val_accuracy: 0.8785 - val_loss: 0.9176\n"
     ]
    },
    {
     "data": {
      "text/plain": [
       "<keras.src.callbacks.history.History at 0x22f88df16f0>"
      ]
     },
     "execution_count": 45,
     "metadata": {},
     "output_type": "execute_result"
    }
   ],
   "source": [
    "model.compile(optimizer=\"rmsprop\", loss = 'categorical_crossentropy', metrics = ['accuracy'])\n",
    "model.fit(X_train, y_train, batch_size = 128, validation_split = 0.1, epochs = 100)"
   ]
  },
  {
   "cell_type": "code",
   "execution_count": 49,
   "metadata": {},
   "outputs": [
    {
     "name": "stdout",
     "output_type": "stream",
     "text": [
      "\u001b[1m313/313\u001b[0m \u001b[32m━━━━━━━━━━━━━━━━━━━━\u001b[0m\u001b[37m\u001b[0m \u001b[1m0s\u001b[0m 2ms/step - accuracy: 0.8700 - loss: 1.1186\n",
      "\u001b[1m313/313\u001b[0m \u001b[32m━━━━━━━━━━━━━━━━━━━━\u001b[0m\u001b[37m\u001b[0m \u001b[1m0s\u001b[0m 1ms/step\n",
      "    y       y_predict\n",
      "=========   ==========\n",
      "    9 \t        9\n",
      "    2 \t        2\n",
      "    1 \t        1\n",
      "    1 \t        1\n",
      "    6 \t        6\n",
      "    1 \t        1\n",
      "    4 \t        4\n",
      "    6 \t        6\n",
      "    5 \t        5\n",
      "    7 \t        7\n"
     ]
    }
   ],
   "source": [
    "# Evaluate model performance\n",
    "model.evaluate(X_test, y_test)\n",
    "\n",
    "# Predict Y values\n",
    "y_predict = model.predict(X_test)\n",
    "\n",
    "print('    y       y_predict')\n",
    "print('=========   ==========')\n",
    "for i in range(10):\n",
    "  print('   ', np.argmax(y_test[i]), '\\t       ', np.argmax(y_predict[i]))"
   ]
  },
  {
   "cell_type": "code",
   "execution_count": 50,
   "metadata": {},
   "outputs": [
    {
     "name": "stdout",
     "output_type": "stream",
     "text": [
      "Epoch 1/10\n",
      "\u001b[1m422/422\u001b[0m \u001b[32m━━━━━━━━━━━━━━━━━━━━\u001b[0m\u001b[37m\u001b[0m \u001b[1m3s\u001b[0m 5ms/step - accuracy: 0.9816 - loss: 0.0648 - val_accuracy: 0.8778 - val_loss: 0.7830\n",
      "Epoch 2/10\n",
      "\u001b[1m422/422\u001b[0m \u001b[32m━━━━━━━━━━━━━━━━━━━━\u001b[0m\u001b[37m\u001b[0m \u001b[1m2s\u001b[0m 4ms/step - accuracy: 0.9793 - loss: 0.0782 - val_accuracy: 0.8807 - val_loss: 0.7213\n",
      "Epoch 3/10\n",
      "\u001b[1m422/422\u001b[0m \u001b[32m━━━━━━━━━━━━━━━━━━━━\u001b[0m\u001b[37m\u001b[0m \u001b[1m2s\u001b[0m 4ms/step - accuracy: 0.9850 - loss: 0.0545 - val_accuracy: 0.8813 - val_loss: 0.7295\n",
      "Epoch 4/10\n",
      "\u001b[1m422/422\u001b[0m \u001b[32m━━━━━━━━━━━━━━━━━━━━\u001b[0m\u001b[37m\u001b[0m \u001b[1m2s\u001b[0m 4ms/step - accuracy: 0.9837 - loss: 0.0514 - val_accuracy: 0.8768 - val_loss: 0.7653\n",
      "Epoch 5/10\n",
      "\u001b[1m422/422\u001b[0m \u001b[32m━━━━━━━━━━━━━━━━━━━━\u001b[0m\u001b[37m\u001b[0m \u001b[1m2s\u001b[0m 4ms/step - accuracy: 0.9806 - loss: 0.0659 - val_accuracy: 0.8817 - val_loss: 0.7228\n",
      "Epoch 6/10\n",
      "\u001b[1m422/422\u001b[0m \u001b[32m━━━━━━━━━━━━━━━━━━━━\u001b[0m\u001b[37m\u001b[0m \u001b[1m2s\u001b[0m 4ms/step - accuracy: 0.9830 - loss: 0.0568 - val_accuracy: 0.8712 - val_loss: 0.7361\n",
      "Epoch 7/10\n",
      "\u001b[1m422/422\u001b[0m \u001b[32m━━━━━━━━━━━━━━━━━━━━\u001b[0m\u001b[37m\u001b[0m \u001b[1m2s\u001b[0m 4ms/step - accuracy: 0.9721 - loss: 0.0923 - val_accuracy: 0.8803 - val_loss: 0.7191\n",
      "Epoch 8/10\n",
      "\u001b[1m422/422\u001b[0m \u001b[32m━━━━━━━━━━━━━━━━━━━━\u001b[0m\u001b[37m\u001b[0m \u001b[1m2s\u001b[0m 4ms/step - accuracy: 0.9837 - loss: 0.0544 - val_accuracy: 0.8803 - val_loss: 0.7309\n",
      "Epoch 9/10\n",
      "\u001b[1m422/422\u001b[0m \u001b[32m━━━━━━━━━━━━━━━━━━━━\u001b[0m\u001b[37m\u001b[0m \u001b[1m2s\u001b[0m 4ms/step - accuracy: 0.9827 - loss: 0.0572 - val_accuracy: 0.8778 - val_loss: 0.7915\n",
      "Epoch 10/10\n",
      "\u001b[1m422/422\u001b[0m \u001b[32m━━━━━━━━━━━━━━━━━━━━\u001b[0m\u001b[37m\u001b[0m \u001b[1m2s\u001b[0m 4ms/step - accuracy: 0.9753 - loss: 0.0955 - val_accuracy: 0.8785 - val_loss: 0.6857\n"
     ]
    },
    {
     "data": {
      "text/plain": [
       "<keras.src.callbacks.history.History at 0x22f839a9b40>"
      ]
     },
     "execution_count": 50,
     "metadata": {},
     "output_type": "execute_result"
    }
   ],
   "source": [
    "model.compile(optimizer=\"adam\", loss = 'categorical_crossentropy', metrics = ['accuracy'])\n",
    "model.fit(X_train, y_train, batch_size = 128, validation_split = 0.1, epochs = 10)"
   ]
  },
  {
   "cell_type": "code",
   "execution_count": 51,
   "metadata": {},
   "outputs": [
    {
     "name": "stdout",
     "output_type": "stream",
     "text": [
      "\u001b[1m313/313\u001b[0m \u001b[32m━━━━━━━━━━━━━━━━━━━━\u001b[0m\u001b[37m\u001b[0m \u001b[1m0s\u001b[0m 2ms/step - accuracy: 0.8735 - loss: 0.7664\n",
      "\u001b[1m313/313\u001b[0m \u001b[32m━━━━━━━━━━━━━━━━━━━━\u001b[0m\u001b[37m\u001b[0m \u001b[1m0s\u001b[0m 1ms/step\n",
      "    y       y_predict\n",
      "=========   ==========\n",
      "    9 \t        9\n",
      "    2 \t        2\n",
      "    1 \t        1\n",
      "    1 \t        1\n",
      "    6 \t        6\n",
      "    1 \t        1\n",
      "    4 \t        4\n",
      "    6 \t        6\n",
      "    5 \t        5\n",
      "    7 \t        7\n"
     ]
    }
   ],
   "source": [
    "# Evaluate model performance\n",
    "model.evaluate(X_test, y_test)\n",
    "\n",
    "# Predict Y values\n",
    "y_predict = model.predict(X_test)\n",
    "\n",
    "print('    y       y_predict')\n",
    "print('=========   ==========')\n",
    "for i in range(10):\n",
    "  print('   ', np.argmax(y_test[i]), '\\t       ', np.argmax(y_predict[i]))"
   ]
  }
 ],
 "metadata": {
  "kernelspec": {
   "display_name": "Python 3",
   "language": "python",
   "name": "python3"
  },
  "language_info": {
   "codemirror_mode": {
    "name": "ipython",
    "version": 3
   },
   "file_extension": ".py",
   "mimetype": "text/x-python",
   "name": "python",
   "nbconvert_exporter": "python",
   "pygments_lexer": "ipython3",
   "version": "3.10.0"
  }
 },
 "nbformat": 4,
 "nbformat_minor": 2
}
